{
 "cells": [
  {
   "cell_type": "code",
   "execution_count": 1,
   "id": "bae30177",
   "metadata": {},
   "outputs": [],
   "source": [
    "import json"
   ]
  },
  {
   "cell_type": "code",
   "execution_count": 2,
   "id": "01aca212",
   "metadata": {},
   "outputs": [
    {
     "name": "stdout",
     "output_type": "stream",
     "text": [
      "True\n"
     ]
    }
   ],
   "source": [
    "\"\"\"\n",
    "C’est une bonne pratique d’utiliser le mot-clé with lorsque vous traitez des fichiers. \n",
    "Vous fermez ainsi toujours correctement le fichier, même si une exception est levée.\n",
    "\n",
    "\"\"\" \n",
    "\n",
    "PRECISION = 2\n",
    "    \n",
    "with open('population.json') as f:\n",
    "    populations = f.read()\n",
    "    \n",
    "with open('relationships.json') as f:\n",
    "    relationships = f.read()\n",
    "\n",
    "print(f.closed)\n",
    "# transformer une chaîne de caractères en liste de dictionnaire si on a un JSON\n",
    "populations = json.loads(populations)\n",
    "relationships = json.loads(relationships)"
   ]
  },
  {
   "cell_type": "markdown",
   "id": "cd187351",
   "metadata": {},
   "source": [
    "# TP Population"
   ]
  },
  {
   "cell_type": "markdown",
   "id": "6a58bfad",
   "metadata": {},
   "source": [
    "## 1. Modifiez la liste populations pour ajouter les relations "
   ]
  },
  {
   "cell_type": "code",
   "execution_count": 4,
   "id": "a4bf001f",
   "metadata": {},
   "outputs": [
    {
     "name": "stdout",
     "output_type": "stream",
     "text": [
      "[{'id': 0, 'name': 'Alan', 'relation': []}, {'id': 1, 'name': 'Albert', 'relation': []}, {'id': 2, 'name': 'Jhon', 'relation': []}, {'id': 3, 'name': 'Brice', 'relation': []}, {'id': 4, 'name': 'Alexendra', 'relation': []}, {'id': 5, 'name': 'Brad', 'relation': []}, {'id': 6, 'name': 'Carl', 'relation': []}, {'id': 7, 'name': 'Dallas', 'relation': []}, {'id': 8, 'name': 'Dennis', 'relation': []}, {'id': 9, 'name': 'Edgar', 'relation': []}, {'id': 10, 'name': 'Erika', 'relation': []}, {'id': 11, 'name': 'Isaac', 'relation': []}, {'id': 12, 'name': 'Ian', 'relation': []}]\n"
     ]
    }
   ],
   "source": [
    "\n",
    "\n",
    "for user in populations:\n",
    "    user['relation'] = []\n",
    "    \n",
    "print(populations)"
   ]
  },
  {
   "cell_type": "code",
   "execution_count": 5,
   "id": "0d72c100",
   "metadata": {},
   "outputs": [],
   "source": [
    "for i, j in relationships:\n",
    "    populations[i]['relation'].append(populations[j])\n",
    "    populations[j]['relation'].append(populations[i])"
   ]
  },
  {
   "cell_type": "markdown",
   "id": "d6a9813e",
   "metadata": {},
   "source": [
    "## 2. Calculez la moyenne des relations"
   ]
  },
  {
   "cell_type": "code",
   "execution_count": 7,
   "id": "db4e36b8",
   "metadata": {},
   "outputs": [],
   "source": [
    "\n",
    "\n",
    "def number_relation_user(user):\n",
    "    \n",
    "    return len(user['relation'])\n",
    "\n",
    "total_relation = sum(number_relation_user(user) for user in populations)\n",
    "total = len(populations)\n",
    "\n",
    "avg_relation = round(total_relation/total, PRECISION)"
   ]
  },
  {
   "cell_type": "code",
   "execution_count": 12,
   "id": "1bcf0eae",
   "metadata": {},
   "outputs": [
    {
     "name": "stdout",
     "output_type": "stream",
     "text": [
      "la moyenne des relations est : 7.38\n"
     ]
    }
   ],
   "source": [
    "print(f\"la moyenne des relations est : {avg_relation}\" )"
   ]
  },
  {
   "cell_type": "markdown",
   "id": "677d5244",
   "metadata": {},
   "source": [
    "## 3. Créez une liste représentant les users (id) et le nombre de relation(s) qu'ils possèdent. \n"
   ]
  },
  {
   "cell_type": "code",
   "execution_count": 13,
   "id": "e8119d6e",
   "metadata": {},
   "outputs": [],
   "source": [
    "relation_user_id = [\n",
    "    (user['id'], number_relation_user(user) ) for user in populations\n",
    "]"
   ]
  },
  {
   "cell_type": "code",
   "execution_count": 14,
   "id": "b83aa4fb",
   "metadata": {},
   "outputs": [],
   "source": [
    "# relation_user_id"
   ]
  },
  {
   "cell_type": "markdown",
   "id": "f7f4cf33",
   "metadata": {},
   "source": [
    "## 4. Et retournez l'utilisateur qui possède le plus de relation(s).\n"
   ]
  },
  {
   "cell_type": "code",
   "execution_count": 15,
   "id": "965a75d5",
   "metadata": {},
   "outputs": [],
   "source": [
    "relation_user_id.sort( key = lambda u : u[1], reverse = True)\n",
    "\n",
    "userId, number_relation_max = relation_user_id[0]"
   ]
  },
  {
   "cell_type": "code",
   "execution_count": 41,
   "id": "a1872001",
   "metadata": {},
   "outputs": [],
   "source": [
    "# populations[userId]"
   ]
  },
  {
   "cell_type": "markdown",
   "id": "14e62671",
   "metadata": {},
   "source": [
    "## 5. Trouvez les amis des amis de chaque utilisateur. "
   ]
  },
  {
   "cell_type": "code",
   "execution_count": 16,
   "id": "ca3be753",
   "metadata": {},
   "outputs": [],
   "source": [
    "def relation_of_relation(user):\n",
    "    \n",
    "    return [(user['id'], r['id'], fof['id']) for r in user['relation'] for fof in r['relation'] ]"
   ]
  },
  {
   "cell_type": "code",
   "execution_count": 17,
   "id": "6493780b",
   "metadata": {},
   "outputs": [
    {
     "data": {
      "text/plain": "[(0, 1, 0),\n (0, 1, 2),\n (0, 1, 4),\n (0, 1, 7),\n (0, 1, 10),\n (0, 1, 0),\n (0, 1, 2),\n (0, 1, 4),\n (0, 1, 7),\n (0, 1, 10),\n (0, 2, 0),\n (0, 2, 1),\n (0, 2, 3),\n (0, 2, 5),\n (0, 2, 10),\n (0, 2, 11),\n (0, 2, 0),\n (0, 2, 1),\n (0, 2, 3),\n (0, 2, 5),\n (0, 2, 10),\n (0, 2, 11),\n (0, 1, 0),\n (0, 1, 2),\n (0, 1, 4),\n (0, 1, 7),\n (0, 1, 10),\n (0, 1, 0),\n (0, 1, 2),\n (0, 1, 4),\n (0, 1, 7),\n (0, 1, 10),\n (0, 2, 0),\n (0, 2, 1),\n (0, 2, 3),\n (0, 2, 5),\n (0, 2, 10),\n (0, 2, 11),\n (0, 2, 0),\n (0, 2, 1),\n (0, 2, 3),\n (0, 2, 5),\n (0, 2, 10),\n (0, 2, 11)]"
     },
     "execution_count": 17,
     "metadata": {},
     "output_type": "execute_result"
    }
   ],
   "source": [
    "relation_of_relation(populations[0])"
   ]
  },
  {
   "cell_type": "code",
   "execution_count": 18,
   "id": "7c226b47",
   "metadata": {},
   "outputs": [],
   "source": [
    "students = [\n",
    "    \"Alan\",\n",
    "    \"Albert\",\n",
    "    \"Jhon\",\n",
    "    \"Brice\",\n",
    "    \"Alexendra\",\n",
    "    \"Brad\",\n",
    "    \"Carl\",\n",
    "    \"Dallas\",\n",
    "    \"Dennis\",\n",
    "    \"Edgar\",\n",
    "     \"Erika\",\n",
    "     \"Isaac\",\n",
    "    \"Ian\" \n",
    "]\n",
    "\n",
    "levels = [4,2,3,5,7,8,2,6,4,3,5, 7, 5]"
   ]
  },
  {
   "cell_type": "code",
   "execution_count": 19,
   "id": "12d172b5",
   "metadata": {},
   "outputs": [],
   "source": [
    "assert len(students) == len(levels)"
   ]
  },
  {
   "cell_type": "code",
   "execution_count": 20,
   "id": "94a4aae6",
   "metadata": {},
   "outputs": [],
   "source": [
    "stLevels = list( zip(students, levels) )\n",
    "stLevels.sort(key = lambda s : s[1], reverse=True)"
   ]
  },
  {
   "cell_type": "markdown",
   "id": "d9042ece",
   "metadata": {},
   "source": [
    "## Partie 2"
   ]
  },
  {
   "cell_type": "code",
   "execution_count": 21,
   "id": "3aaa4267",
   "metadata": {},
   "outputs": [
    {
     "data": {
      "text/plain": "[('Brad', 8),\n ('Alexendra', 7),\n ('Isaac', 7),\n ('Dallas', 6),\n ('Brice', 5),\n ('Erika', 5),\n ('Ian', 5),\n ('Alan', 4),\n ('Dennis', 4),\n ('Jhon', 3),\n ('Edgar', 3),\n ('Albert', 2),\n ('Carl', 2)]"
     },
     "execution_count": 21,
     "metadata": {},
     "output_type": "execute_result"
    }
   ],
   "source": [
    "stLevels"
   ]
  },
  {
   "cell_type": "markdown",
   "id": "806ce66f",
   "metadata": {},
   "source": [
    "## Partie 3"
   ]
  },
  {
   "cell_type": "markdown",
   "id": "95e2cc1c",
   "metadata": {},
   "source": [
    "Créez un jeu de 3 dés et claculez la chance d'obtenir trois fois de suite un 1. Simulez l'expérience de jeu et comparez le résultat avec le résultat théorique.\n"
   ]
  },
  {
   "cell_type": "code",
   "execution_count": 28,
   "id": "a57ed17f",
   "metadata": {},
   "outputs": [],
   "source": [
    "import random as r\n",
    "\n",
    "N = 1_000_000\n",
    "\n",
    "def dice():\n",
    "\n",
    "    return r.randint(1, 6)\n",
    "\n",
    "def game(n=3):\n",
    "\n",
    "    return [dice() for _ in range(n)]"
   ]
  },
  {
   "cell_type": "code",
   "execution_count": 32,
   "outputs": [],
   "source": [
    "def simulation(n = N):\n",
    "    chance = 0\n",
    "    for _ in range(n):\n",
    "        g = game()\n",
    "        if g == [1,1,1]:\n",
    "            chance += 1\n",
    "\n",
    "    return chance / n\n"
   ],
   "metadata": {
    "collapsed": false,
    "pycharm": {
     "name": "#%%\n"
    }
   }
  },
  {
   "cell_type": "code",
   "execution_count": 33,
   "outputs": [
    {
     "data": {
      "text/plain": "0.004684"
     },
     "execution_count": 33,
     "metadata": {},
     "output_type": "execute_result"
    }
   ],
   "source": [
    "simulation()"
   ],
   "metadata": {
    "collapsed": false,
    "pycharm": {
     "name": "#%%\n"
    }
   }
  },
  {
   "cell_type": "code",
   "execution_count": 31,
   "id": "ea62ca73",
   "metadata": {},
   "outputs": [
    {
     "data": {
      "text/plain": "0.004629629629629629"
     },
     "execution_count": 31,
     "metadata": {},
     "output_type": "execute_result"
    }
   ],
   "source": [
    "# 1/6 * 1/6 * 1/6 THEORIE\n",
    "\n",
    "1/6 * 1/6 * 1/6"
   ]
  }
 ],
 "metadata": {
  "kernelspec": {
   "display_name": "Python 3 (ipykernel)",
   "language": "python",
   "name": "python3"
  },
  "language_info": {
   "codemirror_mode": {
    "name": "ipython",
    "version": 3
   },
   "file_extension": ".py",
   "mimetype": "text/x-python",
   "name": "python",
   "nbconvert_exporter": "python",
   "pygments_lexer": "ipython3",
   "version": "3.9.12"
  }
 },
 "nbformat": 4,
 "nbformat_minor": 5
}